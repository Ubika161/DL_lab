{
  "nbformat": 4,
  "nbformat_minor": 0,
  "metadata": {
    "colab": {
      "name": "classificationwithBP.ipynb",
      "provenance": []
    },
    "kernelspec": {
      "name": "python3",
      "display_name": "Python 3"
    },
    "language_info": {
      "name": "python"
    }
  },
  "cells": [
    {
      "cell_type": "code",
      "source": [
        "import torch\n",
        "import torch.nn as nn\n",
        "import torch.optim as optim\n",
        "\n",
        "import numpy as np\n",
        "import torch.nn.functional as F\n",
        "\n",
        "from sklearn.model_selection import train_test_split\n",
        "from torch.autograd import Variable\n",
        "from sklearn.metrics import accuracy_score, confusion_matrix\n",
        "from sklearn.preprocessing import OneHotEncoder, scale\n",
        "\n",
        "import pandas as pd\n",
        "import seaborn as sns\n",
        "import matplotlib.pyplot as plt\n",
        "import random\n",
        "\n",
        "random.seed(1)\n",
        "torch.manual_seed(1)\n",
        "torch.cuda.manual_seed(1)\n",
        "np.random.seed(1)\n",
        "torch.backends.cudnn.deterministic = True\n",
        "torch.backends.cudnn.benchmark = False\n",
        "\n",
        "data = pd.read_csv('winequality-red.csv')\n",
        "data.head()\n",
        "data[\"quality\"].unique()\n",
        "sns.countplot(x = \"quality\", data = data)\n",
        "plt.title(\"Number of observations per category of wine\")\n",
        "plt.show()\n",
        "wine = np.loadtxt(\"winequality-red.csv\", delimiter= \",\", skiprows= 1)\n",
        "\n",
        "# These options determine the way floating point numbers, arrays and other NumPy objects are displayed.\n",
        "\n",
        "# Number of digits of precision for floating point output\n",
        "np.set_printoptions(precision = 2)\n",
        "\n",
        "# If True, always print floating point numbers using fixed point notation, \n",
        "# in which case numbers equal to zero in the current precision will print as zero.\n",
        "np.set_printoptions(suppress = True)\n",
        "\n",
        "print(\"# of instances:\", len(wine))\n",
        "\n",
        "# print the first five rows\n",
        "print(wine[:5])\n",
        "\n",
        "# print the last five rows\n",
        "print(wine[-5:])\n",
        "test_per = 0.2\n",
        "\n",
        "# number of input features\n",
        "n_features = 11\n",
        "\n",
        "# X is all the rows in the dataset and the first 11 columns, ie the 11 input features\n",
        "X = wine[:,:n_features]\n",
        "\n",
        "# Standardize the input features\n",
        "X = scale(X)\n",
        "\n",
        "# Now we have X - a scaled dataset with all the features\n",
        "\n",
        "# label is all the rows but only from the 11th column. \n",
        "# Ie this is just the target values\n",
        "label = wine[:, n_features:]\n",
        "\n",
        "# Encode categorical features as a one-hot numeric array.\n",
        "oneHot = OneHotEncoder()\n",
        "\n",
        "# Fit OneHotEncoder to X, then transform X. Then to an array\n",
        "label = oneHot.fit_transform(label).toarray()\n",
        "X_train , X_test , Y_train , Y_test = train_test_split(X , label, test_size = test_per)\n",
        "\n",
        "# check the lengths of the data \n",
        "print(len(X_train))\n",
        "print(len(X_test))\n",
        "from IPython.display import Image\n",
        "Image(\"/kaggle/input/fcnimage/FCN model.JPG\")\n",
        " \n",
        "class FCN(nn.Module):\n",
        "    def __init__(self):\n",
        "        super(FCN , self).__init__()\n",
        "        \n",
        "        # Input to 11 features (n_features defined as 11 above) to 11 hidden nodes. \n",
        "        self.layer1 = nn.Linear(n_features , n_features)\n",
        "        \n",
        "        # 11 hidden nodes to 6 output classes.\n",
        "        self.layer2 = nn.Linear(n_features , 6)  # 6 output classes\n",
        "        \n",
        "        # Forward pass\n",
        "    def forward(self , data):\n",
        "        \n",
        "        # apply layer one to input \n",
        "        activation1 = self.layer1(data)\n",
        "        \n",
        "        # sigmoid activation on the first layer\n",
        "        activation1 = torch.sigmoid(activation1)\n",
        "        \n",
        "        # layer two \n",
        "        activation2 = self.layer2(activation1)\n",
        "        \n",
        "        # return the output activation on the sigmoid\n",
        "        return torch.sigmoid(activation2)\n",
        "# define the model instance\n",
        "model = FCN()\n",
        "\n",
        "# define the criterion \n",
        "# Creates a criterion that measures the Binary Cross Entropy between the target and the output\n",
        "criterion = nn.BCELoss()\n",
        "\n",
        "# gradient decent\n",
        "optimizer = optim.SGD(model.parameters() , lr = 0.2)\n",
        "\n",
        "# convert the numpy to tensor\n",
        "# variable wraps a tensor\n",
        "X = Variable(torch.from_numpy(X_train).float())\n",
        "Y = Variable(torch.from_numpy(Y_train).float())\n",
        "\n",
        "# set n to 0\n",
        "# create an empty array to hold the losses, actual class, predicted class and training accuracy.\n",
        "n = 0\n",
        "losses = []\n",
        "act_class = []\n",
        "pred_class = []\n",
        "train_acc = []\n",
        "\n",
        "# iterate the data 10,000 times\n",
        "for epoch in range(10000):\n",
        "    \n",
        "    # forward pass\n",
        "    out = model(X)\n",
        "    loss = criterion(out , Y)\n",
        "    losses.append(loss.data)\n",
        "    \n",
        "    optimizer.zero_grad()\n",
        "    \n",
        "    # back propagation\n",
        "    loss.backward()\n",
        "    optimizer.step()\n",
        "    \n",
        "    # save the training accuracy to the train_acc array\n",
        "    train_acc.append(accuracy_score(oneHot.inverse_transform(Y), oneHot.inverse_transform(model(X).data.numpy())))\n",
        "    \n",
        "    if epoch % 500 == 0:\n",
        "        print(epoch, loss.data)\n",
        "        \n",
        "\n",
        "# Training Over.\n",
        "\n",
        "# add the losses to the losses array\n",
        "losses = np.array(losses , dtype = np.float)\n",
        "\n",
        "# Convert the data back to the original representation.\n",
        "train_out = oneHot.inverse_transform(model(X).data.numpy())\n",
        "\n",
        "print('Training accuracy', accuracy_score(oneHot.inverse_transform(Y), train_out))\n",
        "\n",
        "test_out=oneHot.inverse_transform(model(torch.from_numpy(X_test).float()).data.numpy())\n",
        "\n",
        "print('prediction accuracy', accuracy_score(oneHot.inverse_transform(Y_test), test_out))\n",
        "\n",
        "# gather class results\n",
        "act_class.append(oneHot.inverse_transform(Y_test))\n",
        "pred_class.append(test_out)\n",
        "\n",
        "%matplotlib inline\n",
        "plt.plot(losses)\n",
        "plt.title(\"Loss during training\")\n",
        "plt.show()\n",
        "\n",
        "plt.plot(train_acc)\n",
        "plt.title(\"Training Accuracy\")\n",
        "plt.show()\n",
        "\n",
        "confusion_matrix(oneHot.inverse_transform(Y_test), test_out)"
      ],
      "metadata": {
        "colab": {
          "base_uri": "https://localhost:8080/",
          "height": 1000
        },
        "id": "eHaETZIFk_G9",
        "outputId": "ebae7d16-d7cf-4bf9-eec1-11e3992db9e2"
      },
      "execution_count": 2,
      "outputs": [
        {
          "output_type": "display_data",
          "data": {
            "text/plain": [
              "<Figure size 432x288 with 1 Axes>"
            ],
            "image/png": "[encoded data removed]"
          },
          "metadata": {
            "needs_background": "light"
          }
        },
        {
          "output_type": "stream",
          "name": "stdout",
          "text": [
            "# of instances: 1599\n",
            "[[ 7.4   0.7   0.    1.9   0.08 11.   34.    1.    3.51  0.56  9.4   5.  ]\n",
            " [ 7.8   0.88  0.    2.6   0.1  25.   67.    1.    3.2   0.68  9.8   5.  ]\n",
            " [ 7.8   0.76  0.04  2.3   0.09 15.   54.    1.    3.26  0.65  9.8   5.  ]\n",
            " [11.2   0.28  0.56  1.9   0.07 17.   60.    1.    3.16  0.58  9.8   6.  ]\n",
            " [ 7.4   0.7   0.    1.9   0.08 11.   34.    1.    3.51  0.56  9.4   5.  ]]\n",
            "[[ 6.2   0.6   0.08  2.    0.09 32.   44.    0.99  3.45  0.58 10.5   5.  ]\n",
            " [ 5.9   0.55  0.1   2.2   0.06 39.   51.    1.    3.52  0.76 11.2   6.  ]\n",
            " [ 6.3   0.51  0.13  2.3   0.08 29.   40.    1.    3.42  0.75 11.    6.  ]\n",
            " [ 5.9   0.65  0.12  2.    0.07 32.   44.    1.    3.57  0.71 10.2   5.  ]\n",
            " [ 6.    0.31  0.47  3.6   0.07 18.   42.    1.    3.39  0.66 11.    6.  ]]\n",
            "1279\n",
            "320\n",
            "0 tensor(0.7418)\n",
            "500 tensor(0.3108)\n",
            "1000 tensor(0.2892)\n",
            "1500 tensor(0.2832)\n",
            "2000 tensor(0.2806)\n",
            "2500 tensor(0.2789)\n",
            "3000 tensor(0.2776)\n",
            "3500 tensor(0.2765)\n",
            "4000 tensor(0.2756)\n",
            "4500 tensor(0.2747)\n",
            "5000 tensor(0.2739)\n",
            "5500 tensor(0.2732)\n",
            "6000 tensor(0.2725)\n",
            "6500 tensor(0.2718)\n",
            "7000 tensor(0.2712)\n",
            "7500 tensor(0.2706)\n",
            "8000 tensor(0.2701)\n",
            "8500 tensor(0.2696)\n",
            "9000 tensor(0.2690)\n",
            "9500 tensor(0.2685)\n"
          ]
        },
        {
          "output_type": "stream",
          "name": "stderr",
          "text": [
            "/usr/local/lib/python3.7/dist-packages/ipykernel_launcher.py:150: DeprecationWarning: `np.float` is a deprecated alias for the builtin `float`. To silence this warning, use `float` by itself. Doing this will not modify any behavior and is safe. If you specifically wanted the numpy scalar type, use `np.float64` here.\n",
            "Deprecated in NumPy 1.20; for more details and guidance: https://numpy.org/devdocs/release/1.20.0-notes.html#deprecations\n"
          ]
        },
        {
          "output_type": "stream",
          "name": "stdout",
          "text": [
            "Training accuracy 0.6059421422986708\n",
            "prediction accuracy 0.6\n"
          ]
        },
        {
          "output_type": "display_data",
          "data": {
            "text/plain": [
              "<Figure size 432x288 with 1 Axes>"
            ],
            "image/png": "[encoded data removed]"
          },
          "metadata": {
            "needs_background": "light"
          }
        },
        {
          "output_type": "display_data",
          "data": {
            "text/plain": [
              "<Figure size 432x288 with 1 Axes>"
            ],
            "image/png": "[encoded data removed]"
          },
          "metadata": {
            "needs_background": "light"
          }
        },
        {
          "output_type": "execute_result",
          "data": {
            "text/plain": [
              "array([[  0,   0,   1,   0,   0,   0],\n",
              "       [  0,   0,   9,   4,   0,   0],\n",
              "       [  0,   0, 107,  31,   2,   0],\n",
              "       [  0,   0,  50,  80,   4,   0],\n",
              "       [  0,   0,   3,  22,   5,   0],\n",
              "       [  0,   0,   0,   1,   1,   0]])"
            ]
          },
          "metadata": {},
          "execution_count": 2
        }
      ]
    }
  ]
}